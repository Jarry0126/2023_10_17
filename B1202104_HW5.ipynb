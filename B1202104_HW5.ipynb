{
  "cells": [
    {
      "cell_type": "markdown",
      "metadata": {
        "id": "view-in-github",
        "colab_type": "text"
      },
      "source": [
        "<a href=\"https://colab.research.google.com/github/Jarry0126/2023_10_17/blob/main/B1202104_HW5.ipynb\" target=\"_parent\"><img src=\"https://colab.research.google.com/assets/colab-badge.svg\" alt=\"Open In Colab\"/></a>"
      ]
    },
    {
      "cell_type": "code",
      "execution_count": null,
      "metadata": {
        "colab": {
          "base_uri": "https://localhost:8080/"
        },
        "id": "eY5O-I2rn1wb",
        "outputId": "0f6ddca9-e825-48c9-8a59-91ad43a59c6a"
      },
      "outputs": [
        {
          "name": "stdout",
          "output_type": "stream",
          "text": [
            "         *\n",
            "        ***\n",
            "       *****\n",
            "      *******\n",
            "     *********\n",
            "    ***********\n",
            "   *************\n",
            "  ***************\n",
            " *****************\n",
            "        ***\n",
            "        ***\n",
            "        ***\n",
            "        ***\n",
            "        ***\n"
          ]
        }
      ],
      "source": [
        "height=9\n",
        "star=1\n",
        "for i in range(height):\n",
        "    print(\" \" * (height-i)+ \"*\" * star)\n",
        "    star+=2\n",
        "for j in range(5):\n",
        "    print(\" \" * 8+ \"*\" * 3)"
      ]
    },
    {
      "cell_type": "code",
      "execution_count": null,
      "metadata": {
        "colab": {
          "background_save": true,
          "base_uri": "https://localhost:8080/"
        },
        "id": "GP_LysJHr53S",
        "outputId": "7e0b7d2e-0532-4a01-faa2-6eb7d36f6cd8"
      },
      "outputs": [
        {
          "name": "stdout",
          "output_type": "stream",
          "text": [
            "3456: 1A1B\n",
            "3879: 0A2B\n",
            "1258: 1A0B\n"
          ]
        }
      ],
      "source": [
        "import random\n",
        "answer=random.sample(range(1, 10), 4)\n",
        "a=b=n=0\n",
        "num=0\n",
        "while a!=4:\n",
        "    trial=list(input(\"輸入四個數字(不會重複)：\"))\n",
        "    if len(trial)>4:\n",
        "        trial=input(\"輸入字數過多，請輸入四個數字：\")\n",
        "    elif len(trial)<4:\n",
        "        trial=input(\"輸入字數過少，請輸入四個數字：\")\n",
        "    num+=1\n",
        "    a=b=n=0\n",
        "    for i in trial:\n",
        "        if int(trial[n])==answer[n]:\n",
        "           a+=1\n",
        "        elif int(i) in answer:\n",
        "           b+=1\n",
        "        n+=1\n",
        "    for i in range(4):\n",
        "        print(trial[i],end=\"\")\n",
        "    print(\":\",f'{a}A{b}B')\n",
        "if a==4:\n",
        "    print(f'答對了，總共猜了{num}次')"
      ]
    }
  ],
  "metadata": {
    "colab": {
      "provenance": [],
      "include_colab_link": true
    },
    "kernelspec": {
      "display_name": "Python 3",
      "name": "python3"
    },
    "language_info": {
      "name": "python"
    }
  },
  "nbformat": 4,
  "nbformat_minor": 0
}